{
 "cells": [
  {
   "cell_type": "code",
   "execution_count": 10,
   "metadata": {},
   "outputs": [],
   "source": [
    "import os\n",
    "import numpy as np\n",
    "from PIL import Image"
   ]
  },
  {
   "cell_type": "code",
   "execution_count": 11,
   "metadata": {},
   "outputs": [
    {
     "name": "stderr",
     "output_type": "stream",
     "text": [
      "C:\\Users\\Shrey\\AppData\\Local\\Temp\\ipykernel_18184\\1550964527.py:15: FutureWarning: elementwise comparison failed; returning scalar instead, but in the future will perform elementwise comparison\n",
      "  if X == 'None':\n"
     ]
    },
    {
     "name": "stdout",
     "output_type": "stream",
     "text": [
      "no Done!\n",
      "yes Done!\n",
      "(253, 150, 150, 3)\n",
      "(253,)\n"
     ]
    }
   ],
   "source": [
    "class_num = 0\n",
    "X = 'None'\n",
    "y = []\n",
    "for folder in os.listdir('dataset'):\n",
    "  if folder == 'yes':\n",
    "    class_num = 1\n",
    "  else:\n",
    "    class_num = 0\n",
    "  for image in os.listdir(f'dataset/{folder}'):\n",
    "    img = Image.open(f'dataset/{folder}/{image}')\n",
    "    img = img.resize((150, 150))\n",
    "    img = img.convert('RGB')\n",
    "    np_img = np.array(img)\n",
    "    np_img = np.array([np_img])\n",
    "    if X == 'None':\n",
    "      X = np_img\n",
    "    else:\n",
    "      X = np.append(X, np_img, axis=0)\n",
    "    y = np.append(y, [class_num])\n",
    "  print(f'{folder} Done!')\n",
    "print(X.shape)\n",
    "print(y.shape)\n",
    "np.save('X.npy', X)\n",
    "np.save('y.npy', y)"
   ]
  }
 ],
 "metadata": {
  "kernelspec": {
   "display_name": "Python 3",
   "language": "python",
   "name": "python3"
  },
  "language_info": {
   "codemirror_mode": {
    "name": "ipython",
    "version": 3
   },
   "file_extension": ".py",
   "mimetype": "text/x-python",
   "name": "python",
   "nbconvert_exporter": "python",
   "pygments_lexer": "ipython3",
   "version": "3.11.1"
  },
  "orig_nbformat": 4
 },
 "nbformat": 4,
 "nbformat_minor": 2
}
