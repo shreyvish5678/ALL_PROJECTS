{
 "cells": [
  {
   "cell_type": "code",
   "execution_count": 14,
   "metadata": {},
   "outputs": [],
   "source": [
    "import numpy as np\n",
    "from tensorflow import keras\n",
    "from tensorflow.keras import layers\n",
    "from matplotlib import pyplot as plt"
   ]
  },
  {
   "cell_type": "code",
   "execution_count": 15,
   "metadata": {},
   "outputs": [],
   "source": [
    "X_train = np.load('X_train.npy')\n",
    "X_test = np.load('X_test.npy')\n",
    "y_train = np.load('y_train.npy')\n",
    "y_test = np.load('y_test.npy')"
   ]
  },
  {
   "cell_type": "code",
   "execution_count": 16,
   "metadata": {},
   "outputs": [
    {
     "data": {
      "image/png": "[encoded data removed]",
      "text/plain": [
       "<Figure size 640x480 with 1 Axes>"
      ]
     },
     "metadata": {},
     "output_type": "display_data"
    }
   ],
   "source": [
    "from sklearn.model_selection import train_test_split\n",
    "plt.imshow(X_train[0])\n",
    "plt.show()\n",
    "X_train = X_train.astype('float32') / 255.0\n",
    "X_test = X_test.astype('float32') / 255.0\n",
    "X_train, X_val, y_train, y_val = train_test_split(X_train, y_train, test_size=0.25, random_state=0)"
   ]
  },
  {
   "cell_type": "code",
   "execution_count": 17,
   "metadata": {},
   "outputs": [
    {
     "name": "stdout",
     "output_type": "stream",
     "text": [
      "Model: \"sequential_3\"\n",
      "_________________________________________________________________\n",
      " Layer (type)                Output Shape              Param #   \n",
      "=================================================================\n",
      " conv2d_6 (Conv2D)           (None, 30, 30, 32)        896       \n",
      "                                                                 \n",
      " max_pooling2d_6 (MaxPooling  (None, 15, 15, 32)       0         \n",
      " 2D)                                                             \n",
      "                                                                 \n",
      " conv2d_7 (Conv2D)           (None, 13, 13, 64)        18496     \n",
      "                                                                 \n",
      " max_pooling2d_7 (MaxPooling  (None, 6, 6, 64)         0         \n",
      " 2D)                                                             \n",
      "                                                                 \n",
      " flatten_3 (Flatten)         (None, 2304)              0         \n",
      "                                                                 \n",
      " dense_6 (Dense)             (None, 128)               295040    \n",
      "                                                                 \n",
      " dense_7 (Dense)             (None, 1)                 129       \n",
      "                                                                 \n",
      "=================================================================\n",
      "Total params: 314,561\n",
      "Trainable params: 314,561\n",
      "Non-trainable params: 0\n",
      "_________________________________________________________________\n"
     ]
    }
   ],
   "source": [
    "model = keras.Sequential()\n",
    "model.add(layers.Conv2D(32, (3, 3), input_shape = (32, 32, 3), activation = 'relu'))\n",
    "model.add(layers.MaxPooling2D((2, 2)))\n",
    "model.add(layers.Conv2D(64, (3, 3), activation='relu'))\n",
    "model.add(layers.MaxPooling2D((2, 2)))\n",
    "model.add(layers.Flatten())\n",
    "model.add(layers.Dense(128, activation='relu'))\n",
    "model.add(layers.Dense(1, activation='sigmoid'))\n",
    "model.compile(loss='binary_crossentropy', optimizer='adam', metrics=['accuracy'])\n",
    "model.summary()"
   ]
  },
  {
   "cell_type": "code",
   "execution_count": 18,
   "metadata": {},
   "outputs": [
    {
     "name": "stdout",
     "output_type": "stream",
     "text": [
      "Epoch 1/10\n",
      "554/554 [==============================] - 15s 24ms/step - loss: 0.4298 - accuracy: 0.7877 - val_loss: 0.3002 - val_accuracy: 0.8723\n",
      "Epoch 2/10\n",
      "554/554 [==============================] - 13s 23ms/step - loss: 0.2734 - accuracy: 0.8805 - val_loss: 0.2294 - val_accuracy: 0.9038\n",
      "Epoch 3/10\n",
      "554/554 [==============================] - 14s 25ms/step - loss: 0.2112 - accuracy: 0.9116 - val_loss: 0.2005 - val_accuracy: 0.9206\n",
      "Epoch 4/10\n",
      "554/554 [==============================] - 13s 24ms/step - loss: 0.1723 - accuracy: 0.9291 - val_loss: 0.1742 - val_accuracy: 0.9270\n",
      "Epoch 5/10\n",
      "554/554 [==============================] - 13s 23ms/step - loss: 0.1486 - accuracy: 0.9395 - val_loss: 0.1573 - val_accuracy: 0.9401\n",
      "Epoch 6/10\n",
      "554/554 [==============================] - 13s 23ms/step - loss: 0.1247 - accuracy: 0.9512 - val_loss: 0.1313 - val_accuracy: 0.9489\n",
      "Epoch 7/10\n",
      "554/554 [==============================] - 13s 23ms/step - loss: 0.1089 - accuracy: 0.9566 - val_loss: 0.1391 - val_accuracy: 0.9446\n",
      "Epoch 8/10\n",
      "554/554 [==============================] - 13s 23ms/step - loss: 0.0882 - accuracy: 0.9657 - val_loss: 0.1187 - val_accuracy: 0.9533\n",
      "Epoch 9/10\n",
      "554/554 [==============================] - 13s 23ms/step - loss: 0.0773 - accuracy: 0.9704 - val_loss: 0.1342 - val_accuracy: 0.9504\n",
      "Epoch 10/10\n",
      "554/554 [==============================] - 13s 23ms/step - loss: 0.0664 - accuracy: 0.9748 - val_loss: 0.1792 - val_accuracy: 0.9304\n",
      "211/211 [==============================] - 2s 8ms/step - loss: 0.1648 - accuracy: 0.9322\n",
      "Accuracy: 0.9321756958961487\n"
     ]
    }
   ],
   "source": [
    "history = model.fit(X_train, y_train, batch_size=32, epochs=10, validation_data=(X_val, y_val))\n",
    "score = model.evaluate(X_test, y_test)\n",
    "print(f'Accuracy: {score[1]}')\n",
    "model.save('train_model.h5')"
   ]
  }
 ],
 "metadata": {
  "kernelspec": {
   "display_name": "Python 3",
   "language": "python",
   "name": "python3"
  },
  "language_info": {
   "codemirror_mode": {
    "name": "ipython",
    "version": 3
   },
   "file_extension": ".py",
   "mimetype": "text/x-python",
   "name": "python",
   "nbconvert_exporter": "python",
   "pygments_lexer": "ipython3",
   "version": "3.11.1"
  },
  "orig_nbformat": 4
 },
 "nbformat": 4,
 "nbformat_minor": 2
}
