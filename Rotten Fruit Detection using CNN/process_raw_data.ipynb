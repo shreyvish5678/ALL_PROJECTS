{
 "cells": [
  {
   "cell_type": "code",
   "execution_count": 15,
   "metadata": {},
   "outputs": [],
   "source": [
    "import os\n",
    "import numpy as np\n",
    "from PIL import Image"
   ]
  },
  {
   "cell_type": "code",
   "execution_count": 19,
   "metadata": {},
   "outputs": [
    {
     "name": "stderr",
     "output_type": "stream",
     "text": [
      "C:\\Users\\Shrey\\AppData\\Local\\Temp\\ipykernel_23164\\3939959230.py:16: FutureWarning: elementwise comparison failed; returning scalar instead, but in the future will perform elementwise comparison\n",
      "  if X_train == 'None':\n"
     ]
    },
    {
     "name": "stdout",
     "output_type": "stream",
     "text": [
      "freshapples Done!\n",
      "freshbanana Done!\n",
      "freshbittergroud Done!\n",
      "freshcapsicum Done!\n",
      "freshcucumber Done!\n",
      "freshokra Done!\n",
      "freshoranges Done!\n",
      "freshpotato Done!\n",
      "freshtomato Done!\n",
      "rottenapples Done!\n",
      "rottenbanana Done!\n",
      "rottenbittergroud Done!\n",
      "rottencapsicum Done!\n",
      "rottencucumber Done!\n",
      "rottenokra Done!\n",
      "rottenoranges Done!\n",
      "rottenpotato Done!\n",
      "rottentomato Done!\n",
      "(23619, 32, 32, 3)\n",
      "(23619,)\n"
     ]
    }
   ],
   "source": [
    "X_train = 'None'\n",
    "directory = 'Train'\n",
    "y_train = []\n",
    "class_num = 0\n",
    "for folder in os.listdir(directory):\n",
    "  if 'fresh' in folder:\n",
    "    class_num = 1\n",
    "  else:\n",
    "    class_num = 0\n",
    "  for image in os.listdir(f'{directory}/{folder}'):\n",
    "    img = Image.open(f'{directory}/{folder}/{image}')\n",
    "    img = img.resize((32, 32))\n",
    "    img = img.convert('RGB')\n",
    "    np_img = np.array(img)\n",
    "    np_img = np.array([np_img])\n",
    "    if X_train == 'None':\n",
    "      X_train = np_img\n",
    "    else:\n",
    "      X_train = np.append(X_train, np_img, axis=0)\n",
    "    y_train = np.append(y_train, [class_num])\n",
    "  print(f'{folder} Done!')\n",
    "print(X_train.shape)\n",
    "print(y_train.shape)"
   ]
  },
  {
   "cell_type": "code",
   "execution_count": 20,
   "metadata": {},
   "outputs": [
    {
     "name": "stderr",
     "output_type": "stream",
     "text": [
      "C:\\Users\\Shrey\\AppData\\Local\\Temp\\ipykernel_23164\\1735008862.py:16: FutureWarning: elementwise comparison failed; returning scalar instead, but in the future will perform elementwise comparison\n",
      "  if X_test == 'None':\n"
     ]
    },
    {
     "name": "stdout",
     "output_type": "stream",
     "text": [
      "freshapples Done!\n",
      "freshbanana Done!\n",
      "freshcucumber Done!\n",
      "freshokra Done!\n",
      "freshoranges Done!\n",
      "freshpatato Done!\n",
      "freshtamto Done!\n",
      "rottenapples Done!\n",
      "rottenbanana Done!\n",
      "rottencucumber Done!\n",
      "rottenokra Done!\n",
      "rottenoranges Done!\n",
      "rottenpatato Done!\n",
      "rottentamto Done!\n",
      "(6738, 32, 32, 3)\n",
      "(6738,)\n"
     ]
    }
   ],
   "source": [
    "X_test = 'None'\n",
    "directory = 'Test'\n",
    "y_test = []\n",
    "class_num = 0\n",
    "for folder in os.listdir(directory):\n",
    "  if 'fresh' in folder:\n",
    "    class_num = 1\n",
    "  else:\n",
    "    class_num = 0\n",
    "  for image in os.listdir(f'{directory}/{folder}'):\n",
    "    img = Image.open(f'{directory}/{folder}/{image}')\n",
    "    img = img.resize((32, 32))\n",
    "    img = img.convert('RGB')\n",
    "    np_img = np.array(img)\n",
    "    np_img = np.array([np_img])\n",
    "    if X_test == 'None':\n",
    "      X_test = np_img\n",
    "    else:\n",
    "      X_test = np.append(X_test, np_img, axis=0)\n",
    "    y_test = np.append(y_test, [class_num])\n",
    "  print(f'{folder} Done!')\n",
    "print(X_test.shape)\n",
    "print(y_test.shape)"
   ]
  },
  {
   "cell_type": "code",
   "execution_count": 21,
   "metadata": {},
   "outputs": [],
   "source": [
    "np.save('X_train.npy', X_train)\n",
    "np.save('y_train.npy', y_train)\n",
    "np.save('X_test.npy', X_test)\n",
    "np.save('y_test.npy', y_test)"
   ]
  }
 ],
 "metadata": {
  "kernelspec": {
   "display_name": "Python 3",
   "language": "python",
   "name": "python3"
  },
  "language_info": {
   "codemirror_mode": {
    "name": "ipython",
    "version": 3
   },
   "file_extension": ".py",
   "mimetype": "text/x-python",
   "name": "python",
   "nbconvert_exporter": "python",
   "pygments_lexer": "ipython3",
   "version": "3.11.1"
  },
  "orig_nbformat": 4
 },
 "nbformat": 4,
 "nbformat_minor": 2
}
